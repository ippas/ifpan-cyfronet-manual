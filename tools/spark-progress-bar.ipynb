{
 "cells": [
  {
   "cell_type": "code",
   "execution_count": null,
   "id": "382220b6",
   "metadata": {},
   "outputs": [],
   "source": [
    "import os\n",
    "import re\n",
    "import time\n",
    "from tqdm import tqdm\n",
    "\n",
    "\n",
    "LOG_PATH = \"/net/scratch/people/plgjacekh/slurm-log/\""
   ]
  },
  {
   "cell_type": "code",
   "execution_count": null,
   "id": "0a83a1ab",
   "metadata": {},
   "outputs": [],
   "source": [
    "def spark_progress_bar(log, refresh=5):\n",
    "    spark_pbar_re = re.compile(\n",
    "        r'.*\\[Stage (?P<stage>\\d+):=*>?' +\n",
    "        r'\\s*\\((?P<elapsed>\\d+) \\+ (?P<cpus>\\d+)\\) / (?P<total>\\d+)\\]'\n",
    "    )\n",
    "\n",
    "    while True:\n",
    "        with open(log) as f:\n",
    "            log_lines = f.readlines()\n",
    "        match = spark_pbar_re.match(log_lines[-1])\n",
    "        if match is not None:\n",
    "            last_stage = match.group('stage')\n",
    "            last_elapsed = int(match.group('elapsed'))\n",
    "            total = int(match.group('total'))\n",
    "            break\n",
    "        else:\n",
    "            time.sleep(refresh)\n",
    "\n",
    "    pbar = tqdm(total=total)\n",
    "    pbar.set_description(f'Stage {last_stage}')\n",
    "    pbar.update(last_elapsed)\n",
    "    try:\n",
    "        while True:\n",
    "            time.sleep(refresh)\n",
    "            with open(log, 'rt') as f:\n",
    "                log_lines = f.readlines()\n",
    "            match = spark_pbar_re.match(log_lines[-1])\n",
    "            elapsed = int(match.group('elapsed'))\n",
    "            stage = match.group('stage')\n",
    "            if stage == last_stage:\n",
    "                pbar.update(elapsed - last_elapsed)\n",
    "            else:\n",
    "                pbar.close()\n",
    "                total = int(match.group('total'))\n",
    "                pbar = tqdm(total=total)\n",
    "                pbar.set_description(f'Stage {stage}')\n",
    "                pbar.update(elapsed)\n",
    "                last_stage = stage\n",
    "            last_elapsed = elapsed\n",
    "    except KeyboardInterrupt:\n",
    "        pbar.close()"
   ]
  },
  {
   "cell_type": "code",
   "execution_count": null,
   "id": "0769f104",
   "metadata": {},
   "outputs": [],
   "source": [
    "job_id = '10355407'\n",
    "spark_progress_bar(\n",
    "    log=f\"{LOG_PATH}/{job_id}.err\",\n",
    "    refresh=10\n",
    ")"
   ]
  },
  {
   "cell_type": "code",
   "execution_count": null,
   "id": "0769f104",
   "metadata": {},
   "outputs": [],
   "source": [
    "spark_progress_bar(\n",
    "    log=f\"{LOG_PATH}/jupyter-{os.environ.get('SLURM_JOB_ID')}.err\",\n",
    "    refresh=10\n",
    ")"
   ]
  }
 ],
 "metadata": {
  "kernelspec": {
   "display_name": "Python 3 (ipykernel)",
   "language": "python",
   "name": "python3"
  },
  "language_info": {
   "codemirror_mode": {
    "name": "ipython",
    "version": 3
   },
   "file_extension": ".py",
   "mimetype": "text/x-python",
   "name": "python",
   "nbconvert_exporter": "python",
   "pygments_lexer": "ipython3",
   "version": "3.7.7"
  }
 },
 "nbformat": 4,
 "nbformat_minor": 5
}
